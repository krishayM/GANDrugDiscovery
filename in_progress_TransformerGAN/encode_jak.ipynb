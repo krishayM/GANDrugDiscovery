{
 "cells": [
  {
   "cell_type": "code",
   "execution_count": 1,
   "metadata": {},
   "outputs": [],
   "source": [
    "import numpy as np\n",
    "import os\n",
    "import torch"
   ]
  },
  {
   "cell_type": "code",
   "execution_count": 9,
   "metadata": {},
   "outputs": [],
   "source": [
    "def encode_data(path, out_path):\n",
    "    lines = []\n",
    "    with open(path) as f:\n",
    "        lines = f.readlines()\n",
    "    l_split = [l.split() for l in lines]\n",
    "    unique_chars = np.unique(np.array(l_split))\n",
    "    vocab = {c:i for i,c in enumerate(unique_chars)}\n",
    "    encoded = torch.tensor([[vocab[c] for c in l] for l in l_split]).type(torch.LongTensor)\n",
    "    torch.save(encoded, out_path)\n",
    "    \n",
    "    vocab_size = len(vocab)\n",
    "    max_seq_len = encoded.shape[1]\n",
    "    start_letter = 0\n",
    "    \n",
    "    return vocab_size, max_seq_len, start_letter"
   ]
  },
  {
   "cell_type": "code",
   "execution_count": null,
   "metadata": {},
   "outputs": [],
   "source": []
  },
  {
   "cell_type": "code",
   "execution_count": 10,
   "metadata": {},
   "outputs": [
    {
     "data": {
      "text/plain": [
       "(37, 99, 0)"
      ]
     },
     "execution_count": 10,
     "metadata": {},
     "output_type": "execute_result"
    }
   ],
   "source": [
    "encode_data('./data/JAK2New.txt', './jak.pt')"
   ]
  },
  {
   "cell_type": "code",
   "execution_count": 13,
   "metadata": {},
   "outputs": [],
   "source": [
    "data = torch.load('./jak.pt')"
   ]
  },
  {
   "cell_type": "code",
   "execution_count": 32,
   "metadata": {},
   "outputs": [
    {
     "data": {
      "text/plain": [
       "tensor([[21, 16,  1, 13, 22,  2, 30,  7, 30, 33,  1, 33, 30,  7, 21, 30,  7, 30,\n",
       "         30, 30,  1, 17,  2, 30, 30,  7,  2, 16,  7, 16, 16, 16, 16, 26, 16, 14,\n",
       "         14, 18, 28,  7, 16,  0, 21, 25, 25, 25, 25, 25, 25, 25, 25, 25, 25, 25,\n",
       "         25, 25, 25, 25, 25, 25, 25, 25, 25, 25, 25, 25, 25, 25, 25, 25, 25, 25,\n",
       "         25, 25, 25, 25, 25, 25, 25, 25, 25, 25, 25, 25, 25, 25, 25, 25, 25, 25,\n",
       "         25, 25, 25, 25, 25, 25, 25, 25,  5],\n",
       "        [16, 21,  1, 16,  2, 16, 27, 27, 16, 13, 16, 27, 27, 16,  1, 13, 22,  2,\n",
       "         21, 30,  7, 30, 30, 30, 30,  1, 30,  7,  2,  4, 30,  7, 30, 33, 30,  8,\n",
       "         26, 33, 18, 28, 30, 30,  1, 16, 32,  2, 30,  8, 30,  7, 25, 25, 25, 25,\n",
       "         25, 25, 25, 25, 25, 25, 25, 25, 25, 25, 25, 25, 25, 25, 25, 25, 25, 25,\n",
       "         25, 25, 25, 25, 25, 25, 25, 25, 25, 25, 25, 25, 25, 25, 25, 25, 25, 25,\n",
       "         25, 25, 25, 25, 25, 25, 25, 25,  5]])"
      ]
     },
     "execution_count": 32,
     "metadata": {},
     "output_type": "execute_result"
    }
   ],
   "source": [
    "data[list(np.random.choice(len(data), 2, replace=False))]\n"
   ]
  },
  {
   "cell_type": "code",
   "execution_count": 2,
   "metadata": {},
   "outputs": [],
   "source": [
    "from oracle import Oracle"
   ]
  },
  {
   "cell_type": "code",
   "execution_count": 3,
   "metadata": {},
   "outputs": [],
   "source": [
    "vs, sl, sc = (37, 99, 0)\n",
    "o = Oracle(vs, sl, './jak.pt', )"
   ]
  },
  {
   "cell_type": "code",
   "execution_count": 6,
   "metadata": {},
   "outputs": [
    {
     "data": {
      "text/plain": [
       "12428"
      ]
     },
     "execution_count": 6,
     "metadata": {},
     "output_type": "execute_result"
    }
   ],
   "source": [
    "len(o.data)"
   ]
  },
  {
   "cell_type": "code",
   "execution_count": null,
   "metadata": {},
   "outputs": [],
   "source": []
  }
 ],
 "metadata": {
  "kernelspec": {
   "display_name": "conda_pytorch_p36",
   "language": "python",
   "name": "conda_pytorch_p36"
  },
  "language_info": {
   "codemirror_mode": {
    "name": "ipython",
    "version": 3
   },
   "file_extension": ".py",
   "mimetype": "text/x-python",
   "name": "python",
   "nbconvert_exporter": "python",
   "pygments_lexer": "ipython3",
   "version": "3.6.5"
  }
 },
 "nbformat": 4,
 "nbformat_minor": 4
}
