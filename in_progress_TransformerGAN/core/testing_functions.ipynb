{
 "cells": [
  {
   "cell_type": "code",
   "execution_count": 35,
   "metadata": {},
   "outputs": [],
   "source": [
    "from sklearn.model_selection import train_test_split\n",
    "import itertools\n",
    "import collections\n",
    "\n",
    "NUMBER_OF_SENTENCES = 100\n",
    "\n",
    "Token = collections.namedtuple(\"Token\", [\"index\", \"word\"])\n",
    "SOS = Token(0, \"<sos>\")\n",
    "EOS = Token(1, \"<eos>\")\n",
    "PAD = Token(2, \"<pad>\")"
   ]
  },
  {
   "cell_type": "code",
   "execution_count": 36,
   "metadata": {},
   "outputs": [],
   "source": [
    "def load_from_big_file(file, sentence_length = 10):\n",
    "    s = []\n",
    "    \n",
    "    with open(file) as f:\n",
    "        lines = f.readlines()\n",
    "    \n",
    "        for line in lines[:NUMBER_OF_SENTENCES]:\n",
    "            line = line.strip()\n",
    "            line = line.rstrip(\".\")\n",
    "            words = line.split()\n",
    "            if len(words) >= 10:\n",
    "                sent = \" \".join(words[:sentence_length])\n",
    "                sent += \" .\"\n",
    "            else:\n",
    "                sent = \" \".join(words)\n",
    "                sent += \" .\"\n",
    "                sent += (\" \"+PAD.word) * (sentence_length - len(words))\n",
    "            s.append(sent)\n",
    "    \n",
    "    s_train, s_test= train_test_split(s, shuffle = True, test_size=0.1, random_state=42)\n",
    "    return s_train, s_test"
   ]
  },
  {
   "cell_type": "code",
   "execution_count": 37,
   "metadata": {},
   "outputs": [],
   "source": [
    "f = '../data/JAK2New.txt'"
   ]
  },
  {
   "cell_type": "code",
   "execution_count": 38,
   "metadata": {},
   "outputs": [],
   "source": [
    "s_train, s_test = load_from_big_file(f)"
   ]
  },
  {
   "cell_type": "code",
   "execution_count": 39,
   "metadata": {},
   "outputs": [],
   "source": [
    "def fetch_vocab(DATA_GERMAN, DATA_ENGLISH, DATA_GERMAN2): # -> typing.Tuple[typing.List[str], typing.Dict[str, int]]:\n",
    "    \"\"\"Determines the vocabulary, and provides mappings from indices to words and vice versa.\n",
    "    \n",
    "    Returns:\n",
    "        tuple: A pair of mappings, index-to-word and word-to-index.\n",
    "    \"\"\"\n",
    "    # gather all (lower-cased) words that appear in the data\n",
    "    all_words = set()\n",
    "    for sentence in itertools.chain(DATA_GERMAN, DATA_ENGLISH, DATA_GERMAN2):\n",
    "        all_words.update(word.lower() for word in sentence.split(\" \") if word != PAD.word) \n",
    "    \n",
    "    # create mapping from index to word\n",
    "    idx_to_word = [SOS.word, EOS.word, PAD.word] + list(sorted(all_words))\n",
    "    \n",
    "    # create mapping from word to index\n",
    "    word_to_idx = {word: idx for idx, word in enumerate(idx_to_word)}\n",
    "   \n",
    "    return idx_to_word, word_to_idx"
   ]
  },
  {
   "cell_type": "code",
   "execution_count": 40,
   "metadata": {},
   "outputs": [],
   "source": [
    "idx_to_word, word_to_idx = fetch_vocab(s_train, s_train, s_test)"
   ]
  },
  {
   "cell_type": "code",
   "execution_count": 42,
   "metadata": {},
   "outputs": [
    {
     "data": {
      "text/plain": [
       "{'<sos>': 0,\n",
       " '<eos>': 1,\n",
       " '<pad>': 2,\n",
       " '#': 3,\n",
       " '(': 4,\n",
       " ')': 5,\n",
       " '+': 6,\n",
       " '-': 7,\n",
       " '.': 8,\n",
       " '1': 9,\n",
       " '2': 10,\n",
       " '=': 11,\n",
       " '@': 12,\n",
       " '[': 13,\n",
       " '\\\\': 14,\n",
       " ']': 15,\n",
       " 'b': 16,\n",
       " 'c': 17,\n",
       " 'f': 18,\n",
       " 'h': 19,\n",
       " 'l': 20,\n",
       " 'n': 21,\n",
       " 'o': 22,\n",
       " 'r': 23,\n",
       " 's': 24}"
      ]
     },
     "execution_count": 42,
     "metadata": {},
     "output_type": "execute_result"
    }
   ],
   "source": [
    "word_to_idx"
   ]
  },
  {
   "cell_type": "code",
   "execution_count": null,
   "metadata": {},
   "outputs": [],
   "source": []
  }
 ],
 "metadata": {
  "kernelspec": {
   "display_name": "conda_pytorch_p36",
   "language": "python",
   "name": "conda_pytorch_p36"
  },
  "language_info": {
   "codemirror_mode": {
    "name": "ipython",
    "version": 3
   },
   "file_extension": ".py",
   "mimetype": "text/x-python",
   "name": "python",
   "nbconvert_exporter": "python",
   "pygments_lexer": "ipython3",
   "version": "3.6.5"
  }
 },
 "nbformat": 4,
 "nbformat_minor": 4
}
